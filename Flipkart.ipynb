{
  "nbformat": 4,
  "nbformat_minor": 0,
  "metadata": {
    "colab": {
      "name": "Flipkart",
      "provenance": [],
      "collapsed_sections": []
    },
    "kernelspec": {
      "name": "python3",
      "display_name": "Python 3"
    },
    "language_info": {
      "name": "python"
    }
  },
  "cells": [
    {
      "cell_type": "code",
      "metadata": {
        "id": "TEFZ5dTtgL_U"
      },
      "source": [
        "#import libraries\n",
        "import re \n",
        "import nltk \n",
        "from sklearn import preprocessing\n",
        "from sklearn.model_selection import train_test_split\n",
        "from sklearn.feature_extraction.text import CountVectorizer\n",
        "from sklearn.naive_bayes import MultinomialNB\n",
        "from sklearn.metrics import classification_report\n",
        "from sklearn.feature_extraction.text import TfidfVectorizer\n",
        "import numpy as np\n",
        "import pandas as pd\n",
        "import seaborn as sns\n",
        "import matplotlib.pyplot as plt"
      ],
      "execution_count": 106,
      "outputs": []
    },
    {
      "cell_type": "code",
      "metadata": {
        "colab": {
          "base_uri": "https://localhost:8080/",
          "height": 926
        },
        "id": "a4F7n0KBga_j",
        "outputId": "8b538820-2f0c-4431-f284-ba1f65ae6e92"
      },
      "source": [
        "## Reading data from csv file\n",
        "df=pd.read_csv(\"../content/flipkart_com-ecommerce_sample.csv\", na_values=[\"No rating available\"])\n",
        "df"
      ],
      "execution_count": 107,
      "outputs": [
        {
          "output_type": "execute_result",
          "data": {
            "text/html": [
              "<div>\n",
              "<style scoped>\n",
              "    .dataframe tbody tr th:only-of-type {\n",
              "        vertical-align: middle;\n",
              "    }\n",
              "\n",
              "    .dataframe tbody tr th {\n",
              "        vertical-align: top;\n",
              "    }\n",
              "\n",
              "    .dataframe thead th {\n",
              "        text-align: right;\n",
              "    }\n",
              "</style>\n",
              "<table border=\"1\" class=\"dataframe\">\n",
              "  <thead>\n",
              "    <tr style=\"text-align: right;\">\n",
              "      <th></th>\n",
              "      <th>uniq_id</th>\n",
              "      <th>crawl_timestamp</th>\n",
              "      <th>product_url</th>\n",
              "      <th>product_name</th>\n",
              "      <th>product_category_tree</th>\n",
              "      <th>pid</th>\n",
              "      <th>retail_price</th>\n",
              "      <th>discounted_price</th>\n",
              "      <th>image</th>\n",
              "      <th>is_FK_Advantage_product</th>\n",
              "      <th>description</th>\n",
              "      <th>product_rating</th>\n",
              "      <th>overall_rating</th>\n",
              "      <th>brand</th>\n",
              "      <th>product_specifications</th>\n",
              "    </tr>\n",
              "  </thead>\n",
              "  <tbody>\n",
              "    <tr>\n",
              "      <th>0</th>\n",
              "      <td>c2d766ca982eca8304150849735ffef9</td>\n",
              "      <td>2016-03-25 22:59:23 +0000</td>\n",
              "      <td>http://www.flipkart.com/alisha-solid-women-s-c...</td>\n",
              "      <td>Alisha Solid Women's Cycling Shorts</td>\n",
              "      <td>[\"Clothing &gt;&gt; Women's Clothing &gt;&gt; Lingerie, Sl...</td>\n",
              "      <td>SRTEH2FF9KEDEFGF</td>\n",
              "      <td>999.0</td>\n",
              "      <td>379.0</td>\n",
              "      <td>[\"http://img5a.flixcart.com/image/short/u/4/a/...</td>\n",
              "      <td>False</td>\n",
              "      <td>Key Features of Alisha Solid Women's Cycling S...</td>\n",
              "      <td>NaN</td>\n",
              "      <td>NaN</td>\n",
              "      <td>Alisha</td>\n",
              "      <td>{\"product_specification\"=&gt;[{\"key\"=&gt;\"Number of ...</td>\n",
              "    </tr>\n",
              "    <tr>\n",
              "      <th>1</th>\n",
              "      <td>7f7036a6d550aaa89d34c77bd39a5e48</td>\n",
              "      <td>2016-03-25 22:59:23 +0000</td>\n",
              "      <td>http://www.flipkart.com/fabhomedecor-fabric-do...</td>\n",
              "      <td>FabHomeDecor Fabric Double Sofa Bed</td>\n",
              "      <td>[\"Furniture &gt;&gt; Living Room Furniture &gt;&gt; Sofa B...</td>\n",
              "      <td>SBEEH3QGU7MFYJFY</td>\n",
              "      <td>32157.0</td>\n",
              "      <td>22646.0</td>\n",
              "      <td>[\"http://img6a.flixcart.com/image/sofa-bed/j/f...</td>\n",
              "      <td>False</td>\n",
              "      <td>FabHomeDecor Fabric Double Sofa Bed (Finish Co...</td>\n",
              "      <td>NaN</td>\n",
              "      <td>NaN</td>\n",
              "      <td>FabHomeDecor</td>\n",
              "      <td>{\"product_specification\"=&gt;[{\"key\"=&gt;\"Installati...</td>\n",
              "    </tr>\n",
              "    <tr>\n",
              "      <th>2</th>\n",
              "      <td>f449ec65dcbc041b6ae5e6a32717d01b</td>\n",
              "      <td>2016-03-25 22:59:23 +0000</td>\n",
              "      <td>http://www.flipkart.com/aw-bellies/p/itmeh4grg...</td>\n",
              "      <td>AW Bellies</td>\n",
              "      <td>[\"Footwear &gt;&gt; Women's Footwear &gt;&gt; Ballerinas &gt;...</td>\n",
              "      <td>SHOEH4GRSUBJGZXE</td>\n",
              "      <td>999.0</td>\n",
              "      <td>499.0</td>\n",
              "      <td>[\"http://img5a.flixcart.com/image/shoe/7/z/z/r...</td>\n",
              "      <td>False</td>\n",
              "      <td>Key Features of AW Bellies Sandals Wedges Heel...</td>\n",
              "      <td>NaN</td>\n",
              "      <td>NaN</td>\n",
              "      <td>AW</td>\n",
              "      <td>{\"product_specification\"=&gt;[{\"key\"=&gt;\"Ideal For\"...</td>\n",
              "    </tr>\n",
              "    <tr>\n",
              "      <th>3</th>\n",
              "      <td>0973b37acd0c664e3de26e97e5571454</td>\n",
              "      <td>2016-03-25 22:59:23 +0000</td>\n",
              "      <td>http://www.flipkart.com/alisha-solid-women-s-c...</td>\n",
              "      <td>Alisha Solid Women's Cycling Shorts</td>\n",
              "      <td>[\"Clothing &gt;&gt; Women's Clothing &gt;&gt; Lingerie, Sl...</td>\n",
              "      <td>SRTEH2F6HUZMQ6SJ</td>\n",
              "      <td>699.0</td>\n",
              "      <td>267.0</td>\n",
              "      <td>[\"http://img5a.flixcart.com/image/short/6/2/h/...</td>\n",
              "      <td>False</td>\n",
              "      <td>Key Features of Alisha Solid Women's Cycling S...</td>\n",
              "      <td>NaN</td>\n",
              "      <td>NaN</td>\n",
              "      <td>Alisha</td>\n",
              "      <td>{\"product_specification\"=&gt;[{\"key\"=&gt;\"Number of ...</td>\n",
              "    </tr>\n",
              "    <tr>\n",
              "      <th>4</th>\n",
              "      <td>bc940ea42ee6bef5ac7cea3fb5cfbee7</td>\n",
              "      <td>2016-03-25 22:59:23 +0000</td>\n",
              "      <td>http://www.flipkart.com/sicons-all-purpose-arn...</td>\n",
              "      <td>Sicons All Purpose Arnica Dog Shampoo</td>\n",
              "      <td>[\"Pet Supplies &gt;&gt; Grooming &gt;&gt; Skin &amp; Coat Care...</td>\n",
              "      <td>PSOEH3ZYDMSYARJ5</td>\n",
              "      <td>220.0</td>\n",
              "      <td>210.0</td>\n",
              "      <td>[\"http://img5a.flixcart.com/image/pet-shampoo/...</td>\n",
              "      <td>False</td>\n",
              "      <td>Specifications of Sicons All Purpose Arnica Do...</td>\n",
              "      <td>NaN</td>\n",
              "      <td>NaN</td>\n",
              "      <td>Sicons</td>\n",
              "      <td>{\"product_specification\"=&gt;[{\"key\"=&gt;\"Pet Type\",...</td>\n",
              "    </tr>\n",
              "    <tr>\n",
              "      <th>...</th>\n",
              "      <td>...</td>\n",
              "      <td>...</td>\n",
              "      <td>...</td>\n",
              "      <td>...</td>\n",
              "      <td>...</td>\n",
              "      <td>...</td>\n",
              "      <td>...</td>\n",
              "      <td>...</td>\n",
              "      <td>...</td>\n",
              "      <td>...</td>\n",
              "      <td>...</td>\n",
              "      <td>...</td>\n",
              "      <td>...</td>\n",
              "      <td>...</td>\n",
              "      <td>...</td>\n",
              "    </tr>\n",
              "    <tr>\n",
              "      <th>19995</th>\n",
              "      <td>7179d2f6c4ad50a17d014ca1d2815156</td>\n",
              "      <td>2015-12-01 10:15:43 +0000</td>\n",
              "      <td>http://www.flipkart.com/walldesign-small-vinyl...</td>\n",
              "      <td>WallDesign Small Vinyl Sticker</td>\n",
              "      <td>[\"Baby Care &gt;&gt; Baby &amp; Kids Gifts &gt;&gt; Stickers &gt;...</td>\n",
              "      <td>STIE7KFJAKSTDY9G</td>\n",
              "      <td>1500.0</td>\n",
              "      <td>730.0</td>\n",
              "      <td>[\"http://img6a.flixcart.com/image/wall-decorat...</td>\n",
              "      <td>False</td>\n",
              "      <td>Buy WallDesign Small Vinyl Sticker for Rs.730 ...</td>\n",
              "      <td>NaN</td>\n",
              "      <td>NaN</td>\n",
              "      <td>WallDesign</td>\n",
              "      <td>{\"product_specification\"=&gt;[{\"key\"=&gt;\"Number of ...</td>\n",
              "    </tr>\n",
              "    <tr>\n",
              "      <th>19996</th>\n",
              "      <td>71ac419198359d37b8fe5e3fffdfee09</td>\n",
              "      <td>2015-12-01 10:15:43 +0000</td>\n",
              "      <td>http://www.flipkart.com/wallmantra-large-vinyl...</td>\n",
              "      <td>Wallmantra Large Vinyl Stickers Sticker</td>\n",
              "      <td>[\"Baby Care &gt;&gt; Baby &amp; Kids Gifts &gt;&gt; Stickers &gt;...</td>\n",
              "      <td>STIE9F5URNQGJCGH</td>\n",
              "      <td>1429.0</td>\n",
              "      <td>1143.0</td>\n",
              "      <td>[\"http://img6a.flixcart.com/image/sticker/z/g/...</td>\n",
              "      <td>False</td>\n",
              "      <td>Buy Wallmantra Large Vinyl Stickers Sticker fo...</td>\n",
              "      <td>NaN</td>\n",
              "      <td>NaN</td>\n",
              "      <td>Wallmantra</td>\n",
              "      <td>{\"product_specification\"=&gt;[{\"key\"=&gt;\"Number of ...</td>\n",
              "    </tr>\n",
              "    <tr>\n",
              "      <th>19997</th>\n",
              "      <td>93e9d343837400ce0d7980874ece471c</td>\n",
              "      <td>2015-12-01 10:15:43 +0000</td>\n",
              "      <td>http://www.flipkart.com/elite-collection-mediu...</td>\n",
              "      <td>Elite Collection Medium Acrylic Sticker</td>\n",
              "      <td>[\"Baby Care &gt;&gt; Baby &amp; Kids Gifts &gt;&gt; Stickers &gt;...</td>\n",
              "      <td>STIE7VAYDKQZEBSD</td>\n",
              "      <td>1299.0</td>\n",
              "      <td>999.0</td>\n",
              "      <td>[\"http://img5a.flixcart.com/image/sticker/b/s/...</td>\n",
              "      <td>False</td>\n",
              "      <td>Buy Elite Collection Medium Acrylic Sticker fo...</td>\n",
              "      <td>NaN</td>\n",
              "      <td>NaN</td>\n",
              "      <td>Elite Collection</td>\n",
              "      <td>{\"product_specification\"=&gt;[{\"key\"=&gt;\"Number of ...</td>\n",
              "    </tr>\n",
              "    <tr>\n",
              "      <th>19998</th>\n",
              "      <td>669e79b8fa5d9ae020841c0c97d5e935</td>\n",
              "      <td>2015-12-01 10:15:43 +0000</td>\n",
              "      <td>http://www.flipkart.com/elite-collection-mediu...</td>\n",
              "      <td>Elite Collection Medium Acrylic Sticker</td>\n",
              "      <td>[\"Baby Care &gt;&gt; Baby &amp; Kids Gifts &gt;&gt; Stickers &gt;...</td>\n",
              "      <td>STIE8YSVEPPCZ42Y</td>\n",
              "      <td>1499.0</td>\n",
              "      <td>1199.0</td>\n",
              "      <td>[\"http://img5a.flixcart.com/image/sticker/4/2/...</td>\n",
              "      <td>False</td>\n",
              "      <td>Buy Elite Collection Medium Acrylic Sticker fo...</td>\n",
              "      <td>NaN</td>\n",
              "      <td>NaN</td>\n",
              "      <td>Elite Collection</td>\n",
              "      <td>{\"product_specification\"=&gt;[{\"key\"=&gt;\"Number of ...</td>\n",
              "    </tr>\n",
              "    <tr>\n",
              "      <th>19999</th>\n",
              "      <td>cb4fa87a874f715fff567f7b7b3be79c</td>\n",
              "      <td>2015-12-01 10:15:43 +0000</td>\n",
              "      <td>http://www.flipkart.com/elite-collection-mediu...</td>\n",
              "      <td>Elite Collection Medium Acrylic Sticker</td>\n",
              "      <td>[\"Baby Care &gt;&gt; Baby &amp; Kids Gifts &gt;&gt; Stickers &gt;...</td>\n",
              "      <td>STIE88KN9ZDSGZKY</td>\n",
              "      <td>1499.0</td>\n",
              "      <td>999.0</td>\n",
              "      <td>[\"http://img6a.flixcart.com/image/sticker/z/k/...</td>\n",
              "      <td>False</td>\n",
              "      <td>Buy Elite Collection Medium Acrylic Sticker fo...</td>\n",
              "      <td>NaN</td>\n",
              "      <td>NaN</td>\n",
              "      <td>Elite Collection</td>\n",
              "      <td>{\"product_specification\"=&gt;[{\"key\"=&gt;\"Number of ...</td>\n",
              "    </tr>\n",
              "  </tbody>\n",
              "</table>\n",
              "<p>20000 rows × 15 columns</p>\n",
              "</div>"
            ],
            "text/plain": [
              "                                uniq_id  ...                             product_specifications\n",
              "0      c2d766ca982eca8304150849735ffef9  ...  {\"product_specification\"=>[{\"key\"=>\"Number of ...\n",
              "1      7f7036a6d550aaa89d34c77bd39a5e48  ...  {\"product_specification\"=>[{\"key\"=>\"Installati...\n",
              "2      f449ec65dcbc041b6ae5e6a32717d01b  ...  {\"product_specification\"=>[{\"key\"=>\"Ideal For\"...\n",
              "3      0973b37acd0c664e3de26e97e5571454  ...  {\"product_specification\"=>[{\"key\"=>\"Number of ...\n",
              "4      bc940ea42ee6bef5ac7cea3fb5cfbee7  ...  {\"product_specification\"=>[{\"key\"=>\"Pet Type\",...\n",
              "...                                 ...  ...                                                ...\n",
              "19995  7179d2f6c4ad50a17d014ca1d2815156  ...  {\"product_specification\"=>[{\"key\"=>\"Number of ...\n",
              "19996  71ac419198359d37b8fe5e3fffdfee09  ...  {\"product_specification\"=>[{\"key\"=>\"Number of ...\n",
              "19997  93e9d343837400ce0d7980874ece471c  ...  {\"product_specification\"=>[{\"key\"=>\"Number of ...\n",
              "19998  669e79b8fa5d9ae020841c0c97d5e935  ...  {\"product_specification\"=>[{\"key\"=>\"Number of ...\n",
              "19999  cb4fa87a874f715fff567f7b7b3be79c  ...  {\"product_specification\"=>[{\"key\"=>\"Number of ...\n",
              "\n",
              "[20000 rows x 15 columns]"
            ]
          },
          "metadata": {
            "tags": []
          },
          "execution_count": 107
        }
      ]
    },
    {
      "cell_type": "code",
      "metadata": {
        "colab": {
          "base_uri": "https://localhost:8080/"
        },
        "id": "w_Nrsst4gdOg",
        "outputId": "7773baa8-5060-4c0c-dfa7-1cef10f721f3"
      },
      "source": [
        "df.info()  # we will get the total no of entries and no of columns in the given dataset   "
      ],
      "execution_count": 108,
      "outputs": [
        {
          "output_type": "stream",
          "text": [
            "<class 'pandas.core.frame.DataFrame'>\n",
            "RangeIndex: 20000 entries, 0 to 19999\n",
            "Data columns (total 15 columns):\n",
            " #   Column                   Non-Null Count  Dtype  \n",
            "---  ------                   --------------  -----  \n",
            " 0   uniq_id                  20000 non-null  object \n",
            " 1   crawl_timestamp          20000 non-null  object \n",
            " 2   product_url              20000 non-null  object \n",
            " 3   product_name             20000 non-null  object \n",
            " 4   product_category_tree    20000 non-null  object \n",
            " 5   pid                      20000 non-null  object \n",
            " 6   retail_price             19922 non-null  float64\n",
            " 7   discounted_price         19922 non-null  float64\n",
            " 8   image                    19997 non-null  object \n",
            " 9   is_FK_Advantage_product  20000 non-null  bool   \n",
            " 10  description              19998 non-null  object \n",
            " 11  product_rating           1849 non-null   float64\n",
            " 12  overall_rating           1849 non-null   float64\n",
            " 13  brand                    14136 non-null  object \n",
            " 14  product_specifications   19986 non-null  object \n",
            "dtypes: bool(1), float64(4), object(10)\n",
            "memory usage: 2.2+ MB\n"
          ],
          "name": "stdout"
        }
      ]
    },
    {
      "cell_type": "code",
      "metadata": {
        "colab": {
          "base_uri": "https://localhost:8080/"
        },
        "id": "2F3ZZmRnggA4",
        "outputId": "9a790cc5-db9f-405c-ad70-d709af90d751"
      },
      "source": [
        "df.shape    ## this will show how much big our dataset is i.e (no. of entries, no of columns)"
      ],
      "execution_count": null,
      "outputs": [
        {
          "output_type": "execute_result",
          "data": {
            "text/plain": [
              "(20000, 15)"
            ]
          },
          "metadata": {
            "tags": []
          },
          "execution_count": 4
        }
      ]
    },
    {
      "cell_type": "markdown",
      "metadata": {
        "id": "NW7NCtcmglI3"
      },
      "source": [
        "**Data Cleaning and Pre-Processing**"
      ]
    },
    {
      "cell_type": "code",
      "metadata": {
        "id": "Up71DPx5gkLt"
      },
      "source": [
        "df['product_category_tree']=df['product_category_tree'].map(lambda x:x.strip('[]'))\n",
        "df['product_category_tree']=df['product_category_tree'].map(lambda x:x.strip('\"'))\n",
        "df['product_category_tree']=df['product_category_tree'].map(lambda x:x.split('>>'))"
      ],
      "execution_count": null,
      "outputs": []
    },
    {
      "cell_type": "code",
      "metadata": {
        "id": "AkuQ7Nh5gu6q"
      },
      "source": [
        "#delete unwanted columns as we don't need them\n",
        "del_list=['product_url','image',\"is_FK_Advantage_product\"]\n",
        "df=df.drop(del_list,axis=1)"
      ],
      "execution_count": null,
      "outputs": []
    },
    {
      "cell_type": "code",
      "metadata": {
        "colab": {
          "base_uri": "https://localhost:8080/"
        },
        "id": "xUStCvBJgvwv",
        "outputId": "603774d7-64c4-41a8-ec9c-3e2ca16cbd9e"
      },
      "source": [
        "\n",
        "## this will give you the number of enteries and no of columns in your new database \n",
        "## After removing the unwanted columns, now in new dataset we have 12 columns only \n",
        "df.info()          \n"
      ],
      "execution_count": null,
      "outputs": [
        {
          "output_type": "stream",
          "text": [
            "<class 'pandas.core.frame.DataFrame'>\n",
            "RangeIndex: 20000 entries, 0 to 19999\n",
            "Data columns (total 12 columns):\n",
            " #   Column                  Non-Null Count  Dtype  \n",
            "---  ------                  --------------  -----  \n",
            " 0   uniq_id                 20000 non-null  object \n",
            " 1   crawl_timestamp         20000 non-null  object \n",
            " 2   product_name            20000 non-null  object \n",
            " 3   product_category_tree   20000 non-null  object \n",
            " 4   pid                     20000 non-null  object \n",
            " 5   retail_price            19922 non-null  float64\n",
            " 6   discounted_price        19922 non-null  float64\n",
            " 7   description             19998 non-null  object \n",
            " 8   product_rating          1849 non-null   float64\n",
            " 9   overall_rating          1849 non-null   float64\n",
            " 10  brand                   14136 non-null  object \n",
            " 11  product_specifications  19986 non-null  object \n",
            "dtypes: float64(4), object(8)\n",
            "memory usage: 1.8+ MB\n"
          ],
          "name": "stdout"
        }
      ]
    },
    {
      "cell_type": "code",
      "metadata": {
        "colab": {
          "base_uri": "https://localhost:8080/"
        },
        "id": "3xX856Mtg1u0",
        "outputId": "428f73ca-91b7-46f2-c6f4-b7c63f1fdecf"
      },
      "source": [
        "## Now we will Drop data points with duplicate products\n",
        "\n",
        "smd=df.copy()\n",
        "# drop duplicate produts\n",
        "smd.drop_duplicates(subset =\"product_name\", \n",
        "                     keep = \"first\", inplace = True)\n",
        "smd.shape\n",
        "\n",
        "## This will give us the number of enteries with no column which are not having duplicate products."
      ],
      "execution_count": null,
      "outputs": [
        {
          "output_type": "execute_result",
          "data": {
            "text/plain": [
              "(12676, 12)"
            ]
          },
          "metadata": {
            "tags": []
          },
          "execution_count": 8
        }
      ]
    },
    {
      "cell_type": "code",
      "metadata": {
        "id": "RVs6K6FOsVzN"
      },
      "source": [
        "def preprocess_string(str_arg):\n",
        "    '''\n",
        "    input: str_arg --> Takes string to clean\n",
        "    output: cleaned_str --> Gives back cleaned string\n",
        "    This fuction cleans the text in the mentioned ways as comments after the line.This has been copied from some other kernel.\n",
        "\n",
        "    '''\n",
        "    cleaned_str=re.sub('[^a-z\\s]+',' ',str_arg,flags=re.IGNORECASE) #every char except alphabets is replaced\n",
        "    cleaned_str=re.sub('(\\s+)',' ',cleaned_str) #multiple spaces are replaced by single space\n",
        "    cleaned_str=cleaned_str.lower() #converting the cleaned string to lower case\n",
        "    \n",
        "    return cleaned_str # Returning the preprocessed string in tokenized form"
      ],
      "execution_count": null,
      "outputs": []
    },
    {
      "cell_type": "code",
      "metadata": {
        "colab": {
          "base_uri": "https://localhost:8080/"
        },
        "id": "X4O4a_NytIe-",
        "outputId": "72d8e06e-2693-420f-f1b3-d1ce5c1ab286"
      },
      "source": [
        "## This code block is for reading and cleaning data.\n",
        "## In this we are only taking 5 categories\n",
        "\n",
        "import_df = pd.read_csv('../content/flipkart_com-ecommerce_sample.csv')\n",
        "# Reading relevant data\n",
        "import_df['product_category_tree'] = import_df['product_category_tree'].apply(lambda x : x.split('>>')[0][2:].strip())\n",
        "# Category processing. (Check data to understand)\n",
        "top_fiv_gen = list(import_df.groupby('product_category_tree').count().sort_values(by='uniq_id',ascending=False).head(5).index)\n",
        "# Taking only top 5 categories for example sake\n",
        "processed_df = import_df[import_df['product_category_tree'].isin(top_fiv_gen)][['product_category_tree','description']]\n",
        "# Selecting only relevant columns\n",
        "processed_df['description'] = processed_df['description'].astype('str').apply(preprocess_string)\n",
        "# Cleaning strings\n",
        "cat_list = list(processed_df['product_category_tree'].unique())\n",
        "# Creating a list of categories for later use\n",
        "print(cat_list)\n",
        "\n",
        "\n",
        "# Printing the list of top 5 categories\n",
        "le = preprocessing.LabelEncoder()\n",
        "category_encoded=le.fit_transform(processed_df['product_category_tree'])\n",
        "processed_df['product_category_tree'] = category_encoded\n",
        "# Encoding the product category"
      ],
      "execution_count": null,
      "outputs": [
        {
          "output_type": "stream",
          "text": [
            "['Clothing', 'Footwear', 'Automotive', 'Mobiles & Accessories', 'Jewellery']\n"
          ],
          "name": "stdout"
        }
      ]
    },
    {
      "cell_type": "code",
      "metadata": {
        "id": "vxfuZs3Htihj"
      },
      "source": [
        "\n",
        "## This code block is for spliting train test data\n",
        "\n",
        "X_train, X_test, y_train, y_test = train_test_split(processed_df['description'],processed_df['product_category_tree'],test_size=0.2)"
      ],
      "execution_count": null,
      "outputs": []
    },
    {
      "cell_type": "code",
      "metadata": {
        "id": "QY00vX8xtkvc"
      },
      "source": [
        "## This code block is for converting the training data to vectorized form\n",
        "\n",
        "\n",
        "vect = CountVectorizer(stop_words = 'english')\n",
        "# Removing stop words\n",
        "X_train_matrix = vect.fit_transform(X_train) \n",
        "# Converting the train data"
      ],
      "execution_count": null,
      "outputs": []
    },
    {
      "cell_type": "code",
      "metadata": {
        "colab": {
          "base_uri": "https://localhost:8080/"
        },
        "id": "-w_AHANltxLk",
        "outputId": "d3f2001b-4473-4b80-cbb6-33deb331a105"
      },
      "source": [
        "## This code block is for training vectorized data and predicting & scoring test data\n",
        "\n",
        "\n",
        "clf=MultinomialNB()\n",
        "# Defining model\n",
        "clf.fit(X_train_matrix, y_train)\n",
        "# Fitting to multinomial NB model \n",
        "print(clf.score(X_train_matrix, y_train))\n",
        "# Scoring the trained model (Expected to be above 95 percent)\n",
        "X_test_matrix = vect.transform(X_test) \n",
        "# Converting the test data\n",
        "print (clf.score(X_test_matrix, y_test))\n",
        "# Scoring for the test data\n",
        "predicted_result=clf.predict(X_test_matrix)\n",
        "print(classification_report(y_test,predicted_result))\n",
        "# Printing score "
      ],
      "execution_count": null,
      "outputs": [
        {
          "output_type": "stream",
          "text": [
            "0.9929206926241271\n",
            "0.9896710022953328\n",
            "              precision    recall  f1-score   support\n",
            "\n",
            "           0       0.99      1.00      0.99       199\n",
            "           1       1.00      1.00      1.00      1214\n",
            "           2       0.96      0.99      0.98       220\n",
            "           3       0.98      1.00      0.99       733\n",
            "           4       1.00      0.92      0.96       248\n",
            "\n",
            "    accuracy                           0.99      2614\n",
            "   macro avg       0.99      0.98      0.98      2614\n",
            "weighted avg       0.99      0.99      0.99      2614\n",
            "\n"
          ],
          "name": "stdout"
        }
      ]
    },
    {
      "cell_type": "code",
      "metadata": {
        "id": "FXRP6t_1t6fc"
      },
      "source": [
        "## This code block is for converting the training data to Tf-Idf form\n",
        "\n",
        "vectorizer = TfidfVectorizer(stop_words = 'english')\n",
        "# Removing stop words\n",
        "X_train_tfidf = vectorizer.fit_transform(X_train)\n",
        "# Converting the train data"
      ],
      "execution_count": null,
      "outputs": []
    },
    {
      "cell_type": "code",
      "metadata": {
        "colab": {
          "base_uri": "https://localhost:8080/"
        },
        "id": "AOAA1w0Nt9z8",
        "outputId": "985c4429-3b2a-474c-af79-fcfeb3a12b7c"
      },
      "source": [
        "## This code block is for training, predicting & scoring test data\n",
        "\n",
        "\n",
        "clf2=MultinomialNB()\n",
        "# Defining model\n",
        "clf2.fit(X_train_tfidf, y_train)\n",
        "# Fitting to multinomial NB model \n",
        "print(clf2.score(X_train_tfidf, y_train))\n",
        "# Scoring the trained model (Expected to be above 95 percent)\n",
        "X_test_tfidf = vectorizer.transform(X_test) \n",
        "# Converting the test data\n",
        "print (clf2.score(X_test_tfidf, y_test))\n",
        "# Printing score "
      ],
      "execution_count": null,
      "outputs": [
        {
          "output_type": "stream",
          "text": [
            "0.9935903568353582\n",
            "0.9892884468247896\n"
          ],
          "name": "stdout"
        }
      ]
    },
    {
      "cell_type": "code",
      "metadata": {
        "colab": {
          "base_uri": "https://localhost:8080/"
        },
        "id": "WbgrIc-euGK8",
        "outputId": "d43a9f07-9d20-42e5-a9b5-51dea268ccaf"
      },
      "source": [
        "## Testing Block: Test your sting. Replace the 'car' string to test\n",
        "\n",
        "le.inverse_transform(clf.predict(vect.transform(['car'])))"
      ],
      "execution_count": null,
      "outputs": [
        {
          "output_type": "execute_result",
          "data": {
            "text/plain": [
              "array(['Automotive'], dtype=object)"
            ]
          },
          "metadata": {
            "tags": []
          },
          "execution_count": 16
        }
      ]
    },
    {
      "cell_type": "markdown",
      "metadata": {
        "id": "T8vibdPguOMF"
      },
      "source": [
        "**Conclusion**\n",
        "\n",
        "\n",
        "Naive bayes is working very well for this dataset, and also it is providing us the accuracy of more than 99%"
      ]
    },
    {
      "cell_type": "code",
      "metadata": {
        "colab": {
          "base_uri": "https://localhost:8080/"
        },
        "id": "pSmSvwS6wpbr",
        "outputId": "4d2e94c8-188b-401c-911f-fb766e2c4753"
      },
      "source": [
        "# create new variable: discount_percent\n",
        "\n",
        "df[\"discount_percent\"] = ((df.retail_price - df.discounted_price)*100)/df.retail_price\n",
        "df.discount_percent.head()"
      ],
      "execution_count": 100,
      "outputs": [
        {
          "output_type": "execute_result",
          "data": {
            "text/plain": [
              "0    62.062062\n",
              "1    29.576764\n",
              "2    50.050050\n",
              "3    61.802575\n",
              "4     4.545455\n",
              "Name: discount_percent, dtype: float64"
            ]
          },
          "metadata": {
            "tags": []
          },
          "execution_count": 100
        }
      ]
    },
    {
      "cell_type": "code",
      "metadata": {
        "id": "2eAIhhLElLIf"
      },
      "source": [
        "## Creating a function to extract the level of product category from Product category tree"
      ],
      "execution_count": null,
      "outputs": []
    },
    {
      "cell_type": "markdown",
      "metadata": {
        "id": "zjek8UjYw5YM"
      },
      "source": [
        "**Create a function to extract nth level of product category from the product category tree**\n",
        "\n",
        "\n",
        "The product categories are stored in the variable \"product_category_tree\". The following function is used to extract the product categories at a specified level in the tree."
      ]
    },
    {
      "cell_type": "code",
      "metadata": {
        "id": "fsj5zjppw9Ae"
      },
      "source": [
        "def get_nth_category(dataframe, level=1):\n",
        "    \"\"\"extract the level-n product category from the product category tree\"\"\"\n",
        "    \n",
        "    if level == 1:\n",
        "        category = dataframe.product_category_tree.apply(lambda x: re.split(\" >> \", x)[0]).str[2:]\n",
        "    else:\n",
        "        category = dataframe.product_category_tree.apply(lambda x: re.split(\" >> \", x)[level:(level+1)])\n",
        "    \n",
        "    category = category.replace(\"[]\", \"[EMPTY_LEVEL]\")  # this line does not work! Suggestions welcome :)\n",
        "\n",
        "    return category"
      ],
      "execution_count": 89,
      "outputs": []
    },
    {
      "cell_type": "code",
      "metadata": {
        "id": "jNA9DMhky_8I"
      },
      "source": [
        "df[\"primary_category\"] = get_nth_category(df, level=1)\n",
        "df[\"secondary_category\"] = get_nth_category(df, level=2)"
      ],
      "execution_count": 94,
      "outputs": []
    },
    {
      "cell_type": "code",
      "metadata": {
        "id": "kpt3pu1nzA6P",
        "colab": {
          "base_uri": "https://localhost:8080/"
        },
        "outputId": "2accd8e2-25df-44ff-92cc-a558f4ca82cc"
      },
      "source": [
        "print(df.primary_category.head(5), \"\\n\\n\")\n",
        "print(df.secondary_category.head(5))"
      ],
      "execution_count": 91,
      "outputs": [
        {
          "output_type": "stream",
          "text": [
            "0        Clothing\n",
            "1       Furniture\n",
            "2        Footwear\n",
            "3        Clothing\n",
            "4    Pet Supplies\n",
            "Name: primary_category, dtype: object \n",
            "\n",
            "\n",
            "0    [Lingerie, Sleep & Swimwear]\n",
            "1            [Sofa Beds & Futons]\n",
            "2                    [Ballerinas]\n",
            "3    [Lingerie, Sleep & Swimwear]\n",
            "4              [Skin & Coat Care]\n",
            "Name: secondary_category, dtype: object\n"
          ],
          "name": "stdout"
        }
      ]
    },
    {
      "cell_type": "code",
      "metadata": {
        "id": "9BUsz9XNzFxo",
        "colab": {
          "base_uri": "https://localhost:8080/"
        },
        "outputId": "3531115a-e9df-49fd-ee34-5c846c9501d5"
      },
      "source": [
        "# check missing values in the product's ratings column\n",
        "\n",
        "print(\"Missing value percentage\", \"\\n\\nProduct rating: \", round(df.product_rating.isnull().sum()*100/df.shape[0], 2), \"%\",\n",
        "      \"\\nOverall rating: \", round(df.overall_rating.isnull().sum()*100/df.shape[0], 2), \"%\")"
      ],
      "execution_count": 95,
      "outputs": [
        {
          "output_type": "stream",
          "text": [
            "Missing value percentage \n",
            "\n",
            "Product rating:  90.76 % \n",
            "Overall rating:  90.76 %\n"
          ],
          "name": "stdout"
        }
      ]
    },
    {
      "cell_type": "code",
      "metadata": {
        "id": "PGw4BtK7zIsT"
      },
      "source": [
        "# groupby using primary_category\n",
        "\n",
        "groupby_df = pd.DataFrame(df.groupby(\"primary_category\").agg({\"discount_percent\": [np.mean],\"primary_category\": [\"count\"]}))\n",
        "\n",
        "groupby_df.columns = [\"_\".join(col) for col in groupby_df.columns]\n",
        "groupby_df = groupby_df.sort_values(by = [\"primary_category_count\"], ascending=False)\n",
        "groupby_df = groupby_df[groupby_df.primary_category_count > 80]"
      ],
      "execution_count": 101,
      "outputs": []
    },
    {
      "cell_type": "code",
      "metadata": {
        "id": "r-15rn5zzM_o"
      },
      "source": [
        "# reset index to flatten column names as output by the groupby object\n",
        "\n",
        "groupby_df.reset_index(inplace=True)"
      ],
      "execution_count": 102,
      "outputs": []
    },
    {
      "cell_type": "code",
      "metadata": {
        "id": "UooL3B_azUzA",
        "colab": {
          "base_uri": "https://localhost:8080/"
        },
        "outputId": "bd202d5e-2604-4d37-99b6-caac0fbfc674"
      },
      "source": [
        "print(groupby_df.head())\n",
        "print(groupby_df.info())\n",
        "print(groupby_df.describe())"
      ],
      "execution_count": 103,
      "outputs": [
        {
          "output_type": "stream",
          "text": [
            "        primary_category  discount_percent_mean  primary_category_count\n",
            "0               Clothing              45.070525                    6198\n",
            "1              Jewellery              40.889934                    3531\n",
            "2               Footwear              36.268531                    1227\n",
            "3  Mobiles & Accessories              50.994470                    1099\n",
            "4             Automotive              54.650991                    1012\n",
            "<class 'pandas.core.frame.DataFrame'>\n",
            "RangeIndex: 20 entries, 0 to 19\n",
            "Data columns (total 3 columns):\n",
            " #   Column                  Non-Null Count  Dtype  \n",
            "---  ------                  --------------  -----  \n",
            " 0   primary_category        20 non-null     object \n",
            " 1   discount_percent_mean   20 non-null     float64\n",
            " 2   primary_category_count  20 non-null     int64  \n",
            "dtypes: float64(1), int64(1), object(1)\n",
            "memory usage: 608.0+ bytes\n",
            "None\n",
            "       discount_percent_mean  primary_category_count\n",
            "count              20.000000               20.000000\n",
            "mean               34.620169              972.600000\n",
            "std                10.885227             1438.728657\n",
            "min                19.441131               81.000000\n",
            "25%                27.059173              301.000000\n",
            "50%                35.492914              554.000000\n",
            "75%                43.543411              949.750000\n",
            "max                54.650991             6198.000000\n"
          ],
          "name": "stdout"
        }
      ]
    },
    {
      "cell_type": "code",
      "metadata": {
        "id": "40iV3dkTzYRp",
        "colab": {
          "base_uri": "https://localhost:8080/",
          "height": 296
        },
        "outputId": "7f409269-5854-4991-adcc-9f0d0419eede"
      },
      "source": [
        "# product category vs product count\n",
        "\n",
        "sns.barplot(data=groupby_df.sort_values([\"primary_category_count\"], ascending=False),\n",
        "            y=\"primary_category\", x = \"primary_category_count\")\n",
        "plt.xlabel(\"Number of products\")\n",
        "plt.ylabel(\"Product Category\")"
      ],
      "execution_count": 104,
      "outputs": [
        {
          "output_type": "execute_result",
          "data": {
            "text/plain": [
              "Text(0, 0.5, 'Product Category')"
            ]
          },
          "metadata": {
            "tags": []
          },
          "execution_count": 104
        },
        {
          "output_type": "display_data",
          "data": {
            "image/png": "[encoded data removed]",
            "text/plain": [
              "<Figure size 432x288 with 1 Axes>"
            ]
          },
          "metadata": {
            "tags": [],
            "needs_background": "light"
          }
        }
      ]
    },
    {
      "cell_type": "code",
      "metadata": {
        "id": "21Zoz8LwzbY5",
        "colab": {
          "base_uri": "https://localhost:8080/",
          "height": 296
        },
        "outputId": "8e94121b-53b8-4ecb-9cae-7fa05a20b947"
      },
      "source": [
        "# product category vs category discounts\n",
        "\n",
        "sns.barplot(data=groupby_df.sort_values(by = [\"discount_percent_mean\"], ascending=False), y=\"primary_category\", x = \"discount_percent_mean\")\n",
        "plt.xlabel(\"Mean Discount Percentage\")\n",
        "plt.ylabel(\"Product Category\")"
      ],
      "execution_count": 126,
      "outputs": [
        {
          "output_type": "execute_result",
          "data": {
            "text/plain": [
              "Text(0, 0.5, 'Product Category')"
            ]
          },
          "metadata": {
            "tags": []
          },
          "execution_count": 126
        },
        {
          "output_type": "display_data",
          "data": {
            "image/png": "[encoded data removed]",
            "text/plain": [
              "<Figure size 432x288 with 1 Axes>"
            ]
          },
          "metadata": {
            "tags": []
          }
        }
      ]
    }
  ]
}